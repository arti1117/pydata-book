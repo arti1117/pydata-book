{
 "cells": [
  {
   "cell_type": "code",
   "execution_count": 3,
   "metadata": {},
   "outputs": [],
   "source": [
    "import pandas as pd\n",
    "import numpy as np\n",
    "from datetime import datetime"
   ]
  },
  {
   "cell_type": "code",
   "execution_count": 4,
   "metadata": {},
   "outputs": [],
   "source": [
    "dates = [datetime(2020,1,1),datetime(2020,2,1),datetime(2020,3,1),\n",
    "        datetime(2020,4,1),datetime(2020,5,1),datetime(2020,6,1),]\n",
    "\n",
    "ts = pd.Series(np.random.randn(6), index=dates)"
   ]
  },
  {
   "cell_type": "code",
   "execution_count": 5,
   "metadata": {},
   "outputs": [
    {
     "data": {
      "text/plain": [
       "2020-01-01    1.167058\n",
       "2020-02-01    0.057481\n",
       "2020-03-01    0.696310\n",
       "2020-04-01    0.670597\n",
       "2020-05-01   -0.515158\n",
       "2020-06-01    0.308265\n",
       "dtype: float64"
      ]
     },
     "execution_count": 5,
     "metadata": {},
     "output_type": "execute_result"
    }
   ],
   "source": [
    "ts"
   ]
  },
  {
   "cell_type": "code",
   "execution_count": 6,
   "metadata": {},
   "outputs": [
    {
     "data": {
      "text/plain": [
       "DatetimeIndex(['2020-01-01', '2020-02-01', '2020-03-01', '2020-04-01',\n",
       "               '2020-05-01', '2020-06-01'],\n",
       "              dtype='datetime64[ns]', freq=None)"
      ]
     },
     "execution_count": 6,
     "metadata": {},
     "output_type": "execute_result"
    }
   ],
   "source": [
    "ts.index"
   ]
  },
  {
   "cell_type": "code",
   "execution_count": 7,
   "metadata": {},
   "outputs": [
    {
     "data": {
      "text/plain": [
       "2020-01-01    2.334117\n",
       "2020-02-01         NaN\n",
       "2020-03-01    1.392621\n",
       "2020-04-01         NaN\n",
       "2020-05-01   -1.030317\n",
       "2020-06-01         NaN\n",
       "dtype: float64"
      ]
     },
     "execution_count": 7,
     "metadata": {},
     "output_type": "execute_result"
    }
   ],
   "source": [
    "ts + ts[::2]"
   ]
  },
  {
   "cell_type": "code",
   "execution_count": 8,
   "metadata": {},
   "outputs": [
    {
     "data": {
      "text/plain": [
       "dtype('<M8[ns]')"
      ]
     },
     "execution_count": 8,
     "metadata": {},
     "output_type": "execute_result"
    }
   ],
   "source": [
    "ts.index.dtype"
   ]
  },
  {
   "cell_type": "code",
   "execution_count": 10,
   "metadata": {},
   "outputs": [
    {
     "data": {
      "text/plain": [
       "Timestamp('2020-01-01 00:00:00')"
      ]
     },
     "execution_count": 10,
     "metadata": {},
     "output_type": "execute_result"
    }
   ],
   "source": [
    "stamp = ts.index[0]\n",
    "stamp"
   ]
  },
  {
   "cell_type": "code",
   "execution_count": 11,
   "metadata": {},
   "outputs": [
    {
     "data": {
      "text/plain": [
       "0.6963103407622202"
      ]
     },
     "execution_count": 11,
     "metadata": {},
     "output_type": "execute_result"
    }
   ],
   "source": [
    "stamp = ts.index[2]\n",
    "ts[stamp]"
   ]
  },
  {
   "cell_type": "code",
   "execution_count": 12,
   "metadata": {},
   "outputs": [
    {
     "data": {
      "text/plain": [
       "1.1670583940470638"
      ]
     },
     "execution_count": 12,
     "metadata": {},
     "output_type": "execute_result"
    }
   ],
   "source": [
    "ts['1/1/2020']"
   ]
  },
  {
   "cell_type": "code",
   "execution_count": 13,
   "metadata": {},
   "outputs": [
    {
     "data": {
      "text/plain": [
       "0.05748094137089588"
      ]
     },
     "execution_count": 13,
     "metadata": {},
     "output_type": "execute_result"
    }
   ],
   "source": [
    "ts['20200201']"
   ]
  },
  {
   "cell_type": "code",
   "execution_count": 14,
   "metadata": {},
   "outputs": [],
   "source": [
    "longer_ts = pd.Series(np.random.randn(1000),\n",
    "                     index=pd.date_range('1/1/2020', periods=1000))"
   ]
  },
  {
   "cell_type": "code",
   "execution_count": 15,
   "metadata": {},
   "outputs": [
    {
     "data": {
      "text/plain": [
       "2020-01-01    0.155017\n",
       "2020-01-02   -0.116728\n",
       "2020-01-03    0.242718\n",
       "2020-01-04   -0.721085\n",
       "2020-01-05    2.038497\n",
       "                ...   \n",
       "2022-09-22    2.498411\n",
       "2022-09-23    0.560549\n",
       "2022-09-24    0.510965\n",
       "2022-09-25   -0.774410\n",
       "2022-09-26    0.495818\n",
       "Freq: D, Length: 1000, dtype: float64"
      ]
     },
     "execution_count": 15,
     "metadata": {},
     "output_type": "execute_result"
    }
   ],
   "source": [
    "longer_ts"
   ]
  },
  {
   "cell_type": "code",
   "execution_count": 16,
   "metadata": {},
   "outputs": [
    {
     "data": {
      "text/plain": [
       "2021-01-01   -0.488915\n",
       "2021-01-02   -0.361772\n",
       "2021-01-03    0.346752\n",
       "2021-01-04   -0.436784\n",
       "2021-01-05    0.139785\n",
       "                ...   \n",
       "2021-12-27    0.575375\n",
       "2021-12-28    1.084471\n",
       "2021-12-29    0.027931\n",
       "2021-12-30    0.105042\n",
       "2021-12-31   -0.178712\n",
       "Freq: D, Length: 365, dtype: float64"
      ]
     },
     "execution_count": 16,
     "metadata": {},
     "output_type": "execute_result"
    }
   ],
   "source": [
    "longer_ts['2021']"
   ]
  },
  {
   "cell_type": "code",
   "execution_count": 17,
   "metadata": {},
   "outputs": [
    {
     "data": {
      "text/plain": [
       "2021-09-01    0.041872\n",
       "2021-09-02    1.320537\n",
       "2021-09-03   -0.546057\n",
       "2021-09-04   -0.657356\n",
       "2021-09-05   -0.274628\n",
       "2021-09-06   -0.341311\n",
       "2021-09-07   -0.019463\n",
       "2021-09-08    0.759851\n",
       "2021-09-09   -0.112082\n",
       "2021-09-10   -0.402820\n",
       "2021-09-11   -0.791313\n",
       "2021-09-12    0.300400\n",
       "2021-09-13    0.067939\n",
       "2021-09-14   -0.234894\n",
       "2021-09-15    1.907662\n",
       "2021-09-16    0.296770\n",
       "2021-09-17    0.860352\n",
       "2021-09-18   -2.418207\n",
       "2021-09-19    0.046606\n",
       "2021-09-20    1.408712\n",
       "2021-09-21   -0.402489\n",
       "2021-09-22    0.342146\n",
       "2021-09-23   -2.600333\n",
       "2021-09-24   -0.169495\n",
       "2021-09-25    0.450191\n",
       "2021-09-26    0.898554\n",
       "2021-09-27   -1.990113\n",
       "2021-09-28    1.331540\n",
       "2021-09-29   -1.764543\n",
       "2021-09-30   -1.862410\n",
       "Freq: D, dtype: float64"
      ]
     },
     "execution_count": 17,
     "metadata": {},
     "output_type": "execute_result"
    }
   ],
   "source": [
    "longer_ts['2021-9']"
   ]
  },
  {
   "cell_type": "code",
   "execution_count": 20,
   "metadata": {},
   "outputs": [
    {
     "data": {
      "text/plain": [
       "2020-11-17    2.113671\n",
       "2020-11-18   -0.523219\n",
       "2020-11-19   -0.250715\n",
       "2020-11-20    2.533264\n",
       "2020-11-21   -1.517308\n",
       "                ...   \n",
       "2022-09-22    2.498411\n",
       "2022-09-23    0.560549\n",
       "2022-09-24    0.510965\n",
       "2022-09-25   -0.774410\n",
       "2022-09-26    0.495818\n",
       "Freq: D, Length: 679, dtype: float64"
      ]
     },
     "execution_count": 20,
     "metadata": {},
     "output_type": "execute_result"
    }
   ],
   "source": [
    "longer_ts[datetime(2020, 11, 17):]"
   ]
  },
  {
   "cell_type": "code",
   "execution_count": 21,
   "metadata": {},
   "outputs": [
    {
     "data": {
      "text/plain": [
       "2020-01-01    1.167058\n",
       "2020-02-01    0.057481\n",
       "2020-03-01    0.696310\n",
       "2020-04-01    0.670597\n",
       "2020-05-01   -0.515158\n",
       "2020-06-01    0.308265\n",
       "dtype: float64"
      ]
     },
     "execution_count": 21,
     "metadata": {},
     "output_type": "execute_result"
    }
   ],
   "source": [
    "ts"
   ]
  },
  {
   "cell_type": "code",
   "execution_count": 23,
   "metadata": {},
   "outputs": [
    {
     "data": {
      "text/plain": [
       "2020-03-01    0.696310\n",
       "2020-04-01    0.670597\n",
       "2020-05-01   -0.515158\n",
       "2020-06-01    0.308265\n",
       "dtype: float64"
      ]
     },
     "execution_count": 23,
     "metadata": {},
     "output_type": "execute_result"
    }
   ],
   "source": [
    "ts['3/1/2020' : '7/1/2020']"
   ]
  },
  {
   "cell_type": "code",
   "execution_count": 24,
   "metadata": {},
   "outputs": [
    {
     "data": {
      "text/plain": [
       "2020-01-01    1.167058\n",
       "2020-02-01    0.057481\n",
       "2020-03-01    0.696310\n",
       "2020-04-01    0.670597\n",
       "dtype: float64"
      ]
     },
     "execution_count": 24,
     "metadata": {},
     "output_type": "execute_result"
    }
   ],
   "source": [
    "ts.truncate(after='4/1/2020')"
   ]
  },
  {
   "cell_type": "code",
   "execution_count": 25,
   "metadata": {},
   "outputs": [],
   "source": [
    "dates = pd.date_range('2020-1-1', periods=100, freq='W-WED')"
   ]
  },
  {
   "cell_type": "code",
   "execution_count": 26,
   "metadata": {},
   "outputs": [],
   "source": [
    "long_df = pd.DataFrame(np.random.randn(100, 4), index=dates,\n",
    "                      columns=['Colorado', 'Texas', 'New York', 'Ohio'])"
   ]
  },
  {
   "cell_type": "code",
   "execution_count": 27,
   "metadata": {},
   "outputs": [
    {
     "data": {
      "text/html": [
       "<div>\n",
       "<style scoped>\n",
       "    .dataframe tbody tr th:only-of-type {\n",
       "        vertical-align: middle;\n",
       "    }\n",
       "\n",
       "    .dataframe tbody tr th {\n",
       "        vertical-align: top;\n",
       "    }\n",
       "\n",
       "    .dataframe thead th {\n",
       "        text-align: right;\n",
       "    }\n",
       "</style>\n",
       "<table border=\"1\" class=\"dataframe\">\n",
       "  <thead>\n",
       "    <tr style=\"text-align: right;\">\n",
       "      <th></th>\n",
       "      <th>Colorado</th>\n",
       "      <th>Texas</th>\n",
       "      <th>New York</th>\n",
       "      <th>Ohio</th>\n",
       "    </tr>\n",
       "  </thead>\n",
       "  <tbody>\n",
       "    <tr>\n",
       "      <th>2020-03-04</th>\n",
       "      <td>-0.186153</td>\n",
       "      <td>0.920547</td>\n",
       "      <td>0.966909</td>\n",
       "      <td>0.049964</td>\n",
       "    </tr>\n",
       "    <tr>\n",
       "      <th>2020-03-11</th>\n",
       "      <td>1.790724</td>\n",
       "      <td>-0.165080</td>\n",
       "      <td>1.410980</td>\n",
       "      <td>1.155203</td>\n",
       "    </tr>\n",
       "    <tr>\n",
       "      <th>2020-03-18</th>\n",
       "      <td>0.177034</td>\n",
       "      <td>0.916761</td>\n",
       "      <td>0.755161</td>\n",
       "      <td>-1.000410</td>\n",
       "    </tr>\n",
       "    <tr>\n",
       "      <th>2020-03-25</th>\n",
       "      <td>-0.835036</td>\n",
       "      <td>-0.571722</td>\n",
       "      <td>-0.253530</td>\n",
       "      <td>1.388120</td>\n",
       "    </tr>\n",
       "  </tbody>\n",
       "</table>\n",
       "</div>"
      ],
      "text/plain": [
       "            Colorado     Texas  New York      Ohio\n",
       "2020-03-04 -0.186153  0.920547  0.966909  0.049964\n",
       "2020-03-11  1.790724 -0.165080  1.410980  1.155203\n",
       "2020-03-18  0.177034  0.916761  0.755161 -1.000410\n",
       "2020-03-25 -0.835036 -0.571722 -0.253530  1.388120"
      ]
     },
     "execution_count": 27,
     "metadata": {},
     "output_type": "execute_result"
    }
   ],
   "source": [
    "long_df.loc['3-2020']"
   ]
  },
  {
   "cell_type": "code",
   "execution_count": 28,
   "metadata": {},
   "outputs": [
    {
     "data": {
      "text/plain": [
       "DatetimeIndex(['2020-01-01', '2020-01-08', '2020-01-15', '2020-01-22',\n",
       "               '2020-01-29', '2020-02-05', '2020-02-12', '2020-02-19',\n",
       "               '2020-02-26', '2020-03-04', '2020-03-11', '2020-03-18',\n",
       "               '2020-03-25', '2020-04-01', '2020-04-08', '2020-04-15',\n",
       "               '2020-04-22', '2020-04-29', '2020-05-06', '2020-05-13',\n",
       "               '2020-05-20', '2020-05-27', '2020-06-03', '2020-06-10',\n",
       "               '2020-06-17', '2020-06-24', '2020-07-01', '2020-07-08',\n",
       "               '2020-07-15', '2020-07-22', '2020-07-29', '2020-08-05',\n",
       "               '2020-08-12', '2020-08-19', '2020-08-26', '2020-09-02',\n",
       "               '2020-09-09', '2020-09-16', '2020-09-23', '2020-09-30',\n",
       "               '2020-10-07', '2020-10-14', '2020-10-21', '2020-10-28',\n",
       "               '2020-11-04', '2020-11-11', '2020-11-18', '2020-11-25',\n",
       "               '2020-12-02', '2020-12-09', '2020-12-16', '2020-12-23',\n",
       "               '2020-12-30', '2021-01-06', '2021-01-13', '2021-01-20',\n",
       "               '2021-01-27', '2021-02-03', '2021-02-10', '2021-02-17',\n",
       "               '2021-02-24', '2021-03-03', '2021-03-10', '2021-03-17',\n",
       "               '2021-03-24', '2021-03-31', '2021-04-07', '2021-04-14',\n",
       "               '2021-04-21', '2021-04-28', '2021-05-05', '2021-05-12',\n",
       "               '2021-05-19', '2021-05-26', '2021-06-02', '2021-06-09',\n",
       "               '2021-06-16', '2021-06-23', '2021-06-30', '2021-07-07',\n",
       "               '2021-07-14', '2021-07-21', '2021-07-28', '2021-08-04',\n",
       "               '2021-08-11', '2021-08-18', '2021-08-25', '2021-09-01',\n",
       "               '2021-09-08', '2021-09-15', '2021-09-22', '2021-09-29',\n",
       "               '2021-10-06', '2021-10-13', '2021-10-20', '2021-10-27',\n",
       "               '2021-11-03', '2021-11-10', '2021-11-17', '2021-11-24'],\n",
       "              dtype='datetime64[ns]', freq='W-WED')"
      ]
     },
     "execution_count": 28,
     "metadata": {},
     "output_type": "execute_result"
    }
   ],
   "source": [
    "dates"
   ]
  },
  {
   "cell_type": "code",
   "execution_count": 29,
   "metadata": {},
   "outputs": [
    {
     "data": {
      "text/plain": [
       "2020-01-01    0\n",
       "2020-01-02    1\n",
       "2020-01-02    2\n",
       "2020-01-02    3\n",
       "2020-01-03    4\n",
       "dtype: int64"
      ]
     },
     "execution_count": 29,
     "metadata": {},
     "output_type": "execute_result"
    }
   ],
   "source": [
    "dates = pd.DatetimeIndex(['1/1/2020', '1/2/2020', '1/2/2020', '1/2/2020', '1/3/2020'])\n",
    "dup_ts = pd.Series(np.arange(5), index=dates)\n",
    "dup_ts"
   ]
  },
  {
   "cell_type": "code",
   "execution_count": 30,
   "metadata": {},
   "outputs": [
    {
     "data": {
      "text/plain": [
       "False"
      ]
     },
     "execution_count": 30,
     "metadata": {},
     "output_type": "execute_result"
    }
   ],
   "source": [
    "dup_ts.index.is_unique"
   ]
  },
  {
   "cell_type": "code",
   "execution_count": 31,
   "metadata": {},
   "outputs": [
    {
     "data": {
      "text/plain": [
       "4"
      ]
     },
     "execution_count": 31,
     "metadata": {},
     "output_type": "execute_result"
    }
   ],
   "source": [
    "dup_ts['1/3/2020']"
   ]
  },
  {
   "cell_type": "code",
   "execution_count": 32,
   "metadata": {},
   "outputs": [
    {
     "data": {
      "text/plain": [
       "2020-01-02    1\n",
       "2020-01-02    2\n",
       "2020-01-02    3\n",
       "dtype: int64"
      ]
     },
     "execution_count": 32,
     "metadata": {},
     "output_type": "execute_result"
    }
   ],
   "source": [
    "dup_ts['1/2/2020']"
   ]
  },
  {
   "cell_type": "code",
   "execution_count": 33,
   "metadata": {},
   "outputs": [],
   "source": [
    "grouped = dup_ts.groupby(level=0)"
   ]
  },
  {
   "cell_type": "code",
   "execution_count": 34,
   "metadata": {},
   "outputs": [
    {
     "data": {
      "text/plain": [
       "2020-01-01    0\n",
       "2020-01-02    2\n",
       "2020-01-03    4\n",
       "dtype: int64"
      ]
     },
     "execution_count": 34,
     "metadata": {},
     "output_type": "execute_result"
    }
   ],
   "source": [
    "grouped.mean()"
   ]
  },
  {
   "cell_type": "code",
   "execution_count": 35,
   "metadata": {},
   "outputs": [
    {
     "data": {
      "text/plain": [
       "2020-01-01    1\n",
       "2020-01-02    3\n",
       "2020-01-03    1\n",
       "dtype: int64"
      ]
     },
     "execution_count": 35,
     "metadata": {},
     "output_type": "execute_result"
    }
   ],
   "source": [
    "grouped.count()"
   ]
  },
  {
   "cell_type": "code",
   "execution_count": null,
   "metadata": {},
   "outputs": [],
   "source": []
  }
 ],
 "metadata": {
  "kernelspec": {
   "display_name": "Python 3",
   "language": "python",
   "name": "python3"
  },
  "language_info": {
   "codemirror_mode": {
    "name": "ipython",
    "version": 3
   },
   "file_extension": ".py",
   "mimetype": "text/x-python",
   "name": "python",
   "nbconvert_exporter": "python",
   "pygments_lexer": "ipython3",
   "version": "3.7.6"
  }
 },
 "nbformat": 4,
 "nbformat_minor": 4
}
