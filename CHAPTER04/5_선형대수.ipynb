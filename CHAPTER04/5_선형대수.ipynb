{
 "cells": [
  {
   "cell_type": "code",
   "execution_count": 2,
   "metadata": {},
   "outputs": [],
   "source": [
    "import numpy as np\n",
    "\n",
    "x = np.array([[1., 2., 3], [4, 5, 6]])\n",
    "y = np.array([[6, 23.], [-1, 7], [8, 9]])"
   ]
  },
  {
   "cell_type": "code",
   "execution_count": 3,
   "metadata": {},
   "outputs": [
    {
     "data": {
      "text/plain": [
       "array([[1., 2., 3.],\n",
       "       [4., 5., 6.]])"
      ]
     },
     "execution_count": 3,
     "metadata": {},
     "output_type": "execute_result"
    }
   ],
   "source": [
    "x"
   ]
  },
  {
   "cell_type": "code",
   "execution_count": 4,
   "metadata": {},
   "outputs": [
    {
     "data": {
      "text/plain": [
       "array([[ 6., 23.],\n",
       "       [-1.,  7.],\n",
       "       [ 8.,  9.]])"
      ]
     },
     "execution_count": 4,
     "metadata": {},
     "output_type": "execute_result"
    }
   ],
   "source": [
    "y"
   ]
  },
  {
   "cell_type": "code",
   "execution_count": 5,
   "metadata": {},
   "outputs": [
    {
     "data": {
      "text/plain": [
       "array([[ 28.,  64.],\n",
       "       [ 67., 181.]])"
      ]
     },
     "execution_count": 5,
     "metadata": {},
     "output_type": "execute_result"
    }
   ],
   "source": [
    "x.dot(y)"
   ]
  },
  {
   "cell_type": "code",
   "execution_count": 6,
   "metadata": {},
   "outputs": [
    {
     "ename": "ValueError",
     "evalue": "operands could not be broadcast together with shapes (2,3) (3,2) ",
     "output_type": "error",
     "traceback": [
      "\u001b[0;31m---------------------------------------------------------------------------\u001b[0m",
      "\u001b[0;31mValueError\u001b[0m                                Traceback (most recent call last)",
      "\u001b[0;32m<ipython-input-6-7a2c1caf0dad>\u001b[0m in \u001b[0;36m<module>\u001b[0;34m\u001b[0m\n\u001b[0;32m----> 1\u001b[0;31m \u001b[0mx\u001b[0m\u001b[0;34m*\u001b[0m\u001b[0my\u001b[0m\u001b[0;34m\u001b[0m\u001b[0;34m\u001b[0m\u001b[0m\n\u001b[0m",
      "\u001b[0;31mValueError\u001b[0m: operands could not be broadcast together with shapes (2,3) (3,2) "
     ]
    }
   ],
   "source": [
    "x*y"
   ]
  },
  {
   "cell_type": "code",
   "execution_count": 8,
   "metadata": {},
   "outputs": [
    {
     "data": {
      "text/plain": [
       "array([5., 7., 9.])"
      ]
     },
     "execution_count": 8,
     "metadata": {},
     "output_type": "execute_result"
    }
   ],
   "source": [
    "x.sum(axis=0)"
   ]
  },
  {
   "cell_type": "code",
   "execution_count": 9,
   "metadata": {},
   "outputs": [
    {
     "data": {
      "text/plain": [
       "array([ 6., 15.])"
      ]
     },
     "execution_count": 9,
     "metadata": {},
     "output_type": "execute_result"
    }
   ],
   "source": [
    "x.sum(axis=1)"
   ]
  },
  {
   "cell_type": "code",
   "execution_count": 10,
   "metadata": {},
   "outputs": [
    {
     "data": {
      "text/plain": [
       "array([[ 28.,  64.],\n",
       "       [ 67., 181.]])"
      ]
     },
     "execution_count": 10,
     "metadata": {},
     "output_type": "execute_result"
    }
   ],
   "source": [
    "x @ y"
   ]
  },
  {
   "cell_type": "code",
   "execution_count": 11,
   "metadata": {},
   "outputs": [],
   "source": [
    "from numpy.linalg import inv, qr"
   ]
  },
  {
   "cell_type": "code",
   "execution_count": 12,
   "metadata": {},
   "outputs": [],
   "source": [
    "X = np.random.randn(5, 5)"
   ]
  },
  {
   "cell_type": "code",
   "execution_count": 14,
   "metadata": {},
   "outputs": [],
   "source": [
    "mat = X.T @ X"
   ]
  },
  {
   "cell_type": "code",
   "execution_count": 16,
   "metadata": {},
   "outputs": [
    {
     "data": {
      "text/plain": [
       "array([[ 0.23386908,  0.11791158, -0.10425763,  0.04536632, -0.05906175],\n",
       "       [ 0.11791158,  1.6423332 , -0.54777411,  1.8254968 ,  0.5431753 ],\n",
       "       [-0.10425763, -0.54777411,  0.33760141, -0.58586211, -0.18780841],\n",
       "       [ 0.04536632,  1.8254968 , -0.58586211,  3.07967305,  1.54761877],\n",
       "       [-0.05906175,  0.5431753 , -0.18780841,  1.54761877,  1.35719955]])"
      ]
     },
     "execution_count": 16,
     "metadata": {},
     "output_type": "execute_result"
    }
   ],
   "source": [
    "inv(mat)"
   ]
  },
  {
   "cell_type": "code",
   "execution_count": 17,
   "metadata": {},
   "outputs": [
    {
     "data": {
      "text/plain": [
       "array([[ 1.00000000e+00, -1.04319741e-16, -5.66188801e-17,\n",
       "        -3.77103461e-17, -7.90426839e-18],\n",
       "       [-8.36885804e-17,  1.00000000e+00, -7.62325056e-17,\n",
       "         3.66257192e-16,  1.70946580e-17],\n",
       "       [-5.39911138e-17, -1.87743350e-16,  1.00000000e+00,\n",
       "         4.36453098e-17, -1.26938936e-16],\n",
       "       [ 4.79104776e-17,  5.89195821e-16,  7.71715866e-17,\n",
       "         1.00000000e+00, -1.08424566e-16],\n",
       "       [-4.70952400e-17, -2.25281926e-16,  4.38640970e-17,\n",
       "        -6.62814841e-17,  1.00000000e+00]])"
      ]
     },
     "execution_count": 17,
     "metadata": {},
     "output_type": "execute_result"
    }
   ],
   "source": [
    "mat @ inv(mat)"
   ]
  },
  {
   "cell_type": "code",
   "execution_count": 18,
   "metadata": {},
   "outputs": [
    {
     "data": {
      "text/plain": [
       "array([[ 1.00000000e+00, -1.04319741e-16, -5.66188801e-17,\n",
       "        -3.77103461e-17, -7.90426839e-18],\n",
       "       [-8.36885804e-17,  1.00000000e+00, -7.62325056e-17,\n",
       "         3.66257192e-16,  1.70946580e-17],\n",
       "       [-5.39911138e-17, -1.87743350e-16,  1.00000000e+00,\n",
       "         4.36453098e-17, -1.26938936e-16],\n",
       "       [ 4.79104776e-17,  5.89195821e-16,  7.71715866e-17,\n",
       "         1.00000000e+00, -1.08424566e-16],\n",
       "       [-4.70952400e-17, -2.25281926e-16,  4.38640970e-17,\n",
       "        -6.62814841e-17,  1.00000000e+00]])"
      ]
     },
     "execution_count": 18,
     "metadata": {},
     "output_type": "execute_result"
    }
   ],
   "source": [
    "mat.dot(inv(mat))"
   ]
  },
  {
   "cell_type": "code",
   "execution_count": 19,
   "metadata": {},
   "outputs": [],
   "source": [
    "q, r = qr(mat)"
   ]
  },
  {
   "cell_type": "code",
   "execution_count": 20,
   "metadata": {},
   "outputs": [
    {
     "data": {
      "text/plain": [
       "array([[-5.76900387, -1.85501763, -5.21767396,  0.81157498, -1.22298555],\n",
       "       [ 0.        , -6.17411653, -4.60240906,  5.04284702, -4.16838306],\n",
       "       [ 0.        ,  0.        , -4.74122023, -1.85245606,  1.65531547],\n",
       "       [ 0.        ,  0.        ,  0.        , -0.7724    ,  1.34602268],\n",
       "       [ 0.        ,  0.        ,  0.        ,  0.        ,  0.46773349]])"
      ]
     },
     "execution_count": 20,
     "metadata": {},
     "output_type": "execute_result"
    }
   ],
   "source": [
    "r"
   ]
  },
  {
   "cell_type": "code",
   "execution_count": 21,
   "metadata": {},
   "outputs": [
    {
     "data": {
      "text/plain": [
       "array([[-0.91488755,  0.2268038 ,  0.31250342, -0.1145394 , -0.02762516],\n",
       "       [-0.05145072, -0.67733765,  0.11459154, -0.67888746,  0.25406128],\n",
       "       [-0.38968487, -0.34331421, -0.82624098,  0.19972551, -0.08784428],\n",
       "       [ 0.01546048,  0.50479933, -0.36546042, -0.29560951,  0.72387313],\n",
       "       [-0.09077599, -0.34217939,  0.27013869,  0.63144064,  0.63480768]])"
      ]
     },
     "execution_count": 21,
     "metadata": {},
     "output_type": "execute_result"
    }
   ],
   "source": [
    "q"
   ]
  },
  {
   "cell_type": "code",
   "execution_count": null,
   "metadata": {},
   "outputs": [],
   "source": []
  }
 ],
 "metadata": {
  "kernelspec": {
   "display_name": "Python 3",
   "language": "python",
   "name": "python3"
  },
  "language_info": {
   "codemirror_mode": {
    "name": "ipython",
    "version": 3
   },
   "file_extension": ".py",
   "mimetype": "text/x-python",
   "name": "python",
   "nbconvert_exporter": "python",
   "pygments_lexer": "ipython3",
   "version": "3.7.6"
  }
 },
 "nbformat": 4,
 "nbformat_minor": 4
}
